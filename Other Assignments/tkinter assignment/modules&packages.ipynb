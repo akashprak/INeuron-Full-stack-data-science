{
 "cells": [
  {
   "cell_type": "code",
   "execution_count": 1,
   "metadata": {},
   "outputs": [],
   "source": [
    "import modules"
   ]
  },
  {
   "cell_type": "code",
   "execution_count": 1,
   "metadata": {},
   "outputs": [
    {
     "ename": "NameError",
     "evalue": "name 'modules' is not defined",
     "output_type": "error",
     "traceback": [
      "\u001b[1;31m---------------------------------------------------------------------------\u001b[0m",
      "\u001b[1;31mNameError\u001b[0m                                 Traceback (most recent call last)",
      "\u001b[1;32md:\\python files\\modules&packages.ipynb Cell 2\u001b[0m in \u001b[0;36m<cell line: 1>\u001b[1;34m()\u001b[0m\n\u001b[1;32m----> <a href='vscode-notebook-cell:/d%3A/python%20files/modules%26packages.ipynb#W1sZmlsZQ%3D%3D?line=0'>1</a>\u001b[0m modules\u001b[39m.\u001b[39maddition(\u001b[39m1\u001b[39m,\u001b[39m2\u001b[39m)\n",
      "\u001b[1;31mNameError\u001b[0m: name 'modules' is not defined"
     ]
    }
   ],
   "source": [
    "modules.addition(1,2)"
   ]
  },
  {
   "cell_type": "code",
   "execution_count": 3,
   "metadata": {},
   "outputs": [
    {
     "data": {
      "text/plain": [
       "[1, 1, 2, 3, 5, 8]"
      ]
     },
     "execution_count": 3,
     "metadata": {},
     "output_type": "execute_result"
    }
   ],
   "source": [
    "list(modules.fibo(6))"
   ]
  },
  {
   "cell_type": "code",
   "execution_count": 1,
   "metadata": {},
   "outputs": [],
   "source": [
    "from modules import *"
   ]
  },
  {
   "cell_type": "code",
   "execution_count": 3,
   "metadata": {},
   "outputs": [
    {
     "data": {
      "text/plain": [
       "[1, 1, 2, 3, 5, 8, 13]"
      ]
     },
     "execution_count": 3,
     "metadata": {},
     "output_type": "execute_result"
    }
   ],
   "source": [
    "list(fibo(7))"
   ]
  },
  {
   "cell_type": "code",
   "execution_count": 9,
   "metadata": {},
   "outputs": [
    {
     "data": {
      "text/plain": [
       "'data science'"
      ]
     },
     "execution_count": 9,
     "metadata": {},
     "output_type": "execute_result"
    }
   ],
   "source": [
    "course()"
   ]
  },
  {
   "cell_type": "code",
   "execution_count": 3,
   "metadata": {},
   "outputs": [],
   "source": [
    "from tkinter import *"
   ]
  },
  {
   "cell_type": "code",
   "execution_count": 34,
   "metadata": {},
   "outputs": [],
   "source": [
    "parent=Tk()\n",
    "redbutton=Button(parent,text='red',fg='red')\n",
    "redbutton.pack(side=RIGHT)\n",
    "bluebutton=Button(text='Blue',fg='black')\n",
    "bluebutton.pack(side=BOTTOM)\n",
    "parent.mainloop()"
   ]
  },
  {
   "cell_type": "code",
   "execution_count": 35,
   "metadata": {},
   "outputs": [],
   "source": [
    "parent = Tk()  \n",
    "name = Label(parent,text = \"Name\").grid(row = 0, column = 0) \n",
    "e1 = Entry(parent).grid(row = 0, column = 1)  \n",
    "password = Label(parent,text = \"Password\").grid(row = 1, column = 0)  \n",
    "e2 = Entry(parent).grid(row = 1, column = 1)  \n",
    "submit = Button(parent, text = \"Submit\").grid(row = 4, column = 0)  \n",
    "parent.mainloop()  "
   ]
  },
  {
   "cell_type": "code",
   "execution_count": 220,
   "metadata": {},
   "outputs": [
    {
     "data": {
      "text/plain": [
       "'ok'"
      ]
     },
     "execution_count": 220,
     "metadata": {},
     "output_type": "execute_result"
    }
   ],
   "source": [
    "from tkinter import messagebox\n",
    "messagebox.showinfo('ak','ash')"
   ]
  },
  {
   "cell_type": "code",
   "execution_count": 219,
   "metadata": {},
   "outputs": [],
   "source": [
    "top=Tk()\n",
    "for i in range(2):\n",
    "    messagebox.showinfo('show','info')\n",
    "top.mainloop()"
   ]
  },
  {
   "cell_type": "code",
   "execution_count": 12,
   "metadata": {},
   "outputs": [],
   "source": [
    "main=Tk()\n",
    "messagebox.askquestion('Question?','do you want to print?')\n",
    "if messagebox.askquestion == 'YES':\n",
    "    print(\"YES\")\n",
    "main.mainloop()"
   ]
  },
  {
   "cell_type": "code",
   "execution_count": 184,
   "metadata": {},
   "outputs": [],
   "source": [
    "from os import listdir"
   ]
  },
  {
   "cell_type": "code",
   "execution_count": 54,
   "metadata": {},
   "outputs": [
    {
     "name": "stdout",
     "output_type": "stream",
     "text": [
      "AkashWord.docx\n",
      "BatmanQuote.txt\n",
      "CERTI.jpg\n",
      "Custom Office Templates\n",
      "Database1.accdb\n",
      "Desktop - Shortcut.lnk\n",
      "desktop.ini\n",
      "industrial cert.pdf\n",
      "INDUSTRIAL CERTIFICATE.docx\n",
      "My Digital Editions\n",
      "My Music\n",
      "My Pictures\n",
      "My Videos\n",
      "OneNote Notebooks\n",
      "Python Scripts\n",
      "SEMINAR 1.mp4\n",
      "warranty invoice.pdf\n",
      "Zoom\n"
     ]
    }
   ],
   "source": [
    "print('\\n'.join(listdir('C:/Users/Lenovo/Documents/')))"
   ]
  },
  {
   "cell_type": "code",
   "execution_count": 183,
   "metadata": {},
   "outputs": [],
   "source": [
    "from PyPDF2 import PdfMerger"
   ]
  },
  {
   "cell_type": "code",
   "execution_count": 187,
   "metadata": {},
   "outputs": [
    {
     "name": "stdout",
     "output_type": "stream",
     "text": [
      "['industrial cert.pdf', 'warranty invoice.pdf']\n"
     ]
    },
    {
     "data": {
      "text/plain": [
       "<bound method PdfMerger.close of <PyPDF2._merger.PdfMerger object at 0x00000169286BD070>>"
      ]
     },
     "execution_count": 187,
     "metadata": {},
     "output_type": "execute_result"
    }
   ],
   "source": [
    "pdfs=[i for i in listdir('C:/Users/Lenovo/Documents') if i.endswith('.pdf')]\n",
    "print(pdfs)\n",
    "merger=PdfMerger()\n",
    "for i in pdfs:\n",
    "    merger.append('C:/Users/Lenovo/Documents/'+i)\n",
    "merger.write('mergedpdf.pdf')\n",
    "merger.close"
   ]
  },
  {
   "cell_type": "code",
   "execution_count": 215,
   "metadata": {},
   "outputs": [
    {
     "data": {
      "text/plain": [
       "<bound method PdfMerger.close of <PyPDF2._merger.PdfMerger object at 0x0000016928859B50>>"
      ]
     },
     "execution_count": 215,
     "metadata": {},
     "output_type": "execute_result"
    }
   ],
   "source": [
    "pdfs=['C:/Users/Lenovo/Documents/warranty invoice.pdf']\n",
    "merger=PdfMerger()\n",
    "for i in pdfs:\n",
    "    merger.append(i)\n",
    "merger.write('appended.pdf')\n",
    "merger.close"
   ]
  },
  {
   "cell_type": "code",
   "execution_count": 77,
   "metadata": {},
   "outputs": [],
   "source": [
    "parent=Tk()\n",
    "parent.geometry('350x350')\n",
    "def files():\n",
    "    global directory\n",
    "    val=directory.get()\n",
    "    txt='\\n'.join(listdir(val))\n",
    "    out.configure(text=txt)\n",
    "directory=Entry(parent)\n",
    "directory.pack()\n",
    "B=Button(parent,text=\"ENTER\",command=files,activebackground='blue',\n",
    "activeforeground='yellow')\n",
    "B.pack()\n",
    "out=Label(parent)\n",
    "out.pack()\n",
    "parent.mainloop()"
   ]
  },
  {
   "cell_type": "code",
   "execution_count": 1,
   "metadata": {},
   "outputs": [],
   "source": [
    "global n,j"
   ]
  },
  {
   "cell_type": "code",
   "execution_count": 76,
   "metadata": {},
   "outputs": [],
   "source": [
    "def mergepdf(filelist :'Iterable',filename:str='mergedpdf') -> 'pdf':\n",
    "    \"\"\"This function accepts a list of files and merges the PDFs in that file in the name which is accepted as the second argument.\n",
    "    parameters\n",
    "                : filelist - files in the form of any iterable \n",
    "                : filename - The name for the output file in str \"\"\"\n",
    "    from PyPDF2 import PdfMerger\n",
    "    pdflist=[i for i in filelist if str(i).endswith('.pdf')]\n",
    "    merger=PdfMerger()\n",
    "    for i in pdflist:\n",
    "        merger.append(i)\n",
    "    filename=str(filename)+'.pdf'\n",
    "    merger.write(filename)\n",
    "    merger.close()"
   ]
  },
  {
   "cell_type": "code",
   "execution_count": 3,
   "metadata": {},
   "outputs": [
    {
     "name": "stderr",
     "output_type": "stream",
     "text": [
      "Exception in Tkinter callback\n",
      "Traceback (most recent call last):\n",
      "  File \"c:\\Users\\Lenovo\\anaconda3\\lib\\tkinter\\__init__.py\", line 1892, in __call__\n",
      "    return self.func(*args)\n",
      "  File \"C:\\Users\\Lenovo\\AppData\\Local\\Temp\\ipykernel_9072\\1175732872.py\", line 9, in files\n",
      "    val=listdir(directory.get())\n",
      "FileNotFoundError: [WinError 3] The system cannot find the path specified: 'k'\n",
      "Exception in Tkinter callback\n",
      "Traceback (most recent call last):\n",
      "  File \"c:\\Users\\Lenovo\\anaconda3\\lib\\tkinter\\__init__.py\", line 1892, in __call__\n",
      "    return self.func(*args)\n",
      "  File \"C:\\Users\\Lenovo\\AppData\\Local\\Temp\\ipykernel_9072\\1175732872.py\", line 9, in files\n",
      "    val=listdir(directory.get())\n",
      "FileNotFoundError: [WinError 3] The system cannot find the path specified: 'k'\n"
     ]
    }
   ],
   "source": [
    "try:\n",
    "    from tkinter import *\n",
    "    #from tkinter import ttk\n",
    "    from os import listdir\n",
    "    parent=Tk()\n",
    "    parent.geometry('400x500')\n",
    "\n",
    "    def files():\n",
    "        val=listdir(directory.get())\n",
    "        txt='\\n'.join(val)\n",
    "        pdf.pack()\n",
    "        outheader.pack()\n",
    "        out.pack()\n",
    "        #out.configure(yscrollcommand=v.set)\n",
    "        out.insert(END,txt,'center')\n",
    "        v.config(command=out.yview)\n",
    "\n",
    "        #out.tag_add('name',1.0,'end')\n",
    "    header=Label(parent,text='Enter Directory Path')\n",
    "    header.pack()\n",
    "    directory=Entry(parent,width=50)\n",
    "    directory.pack()\n",
    "    B=Button(parent,text=\"ENTER\",command=files,fg='black',bg='grey',activebackground='green')\n",
    "    B.pack()\n",
    "    pdf=Button(parent,text='Merge PDFs in Directory',bg='purple',fg='white',activebackground='green')\n",
    "    outheader=Label(parent,text='\\nFiles in the Directory are :',font=('helvetica 9 bold'))\n",
    "    \n",
    "    v=Scrollbar(parent,orient='vertical')\n",
    "    v.pack(side=RIGHT,fill='y')\n",
    "    out = Text(parent, background=header.cget(\"background\"),\n",
    "    borderwidth=0, font=header.cget(\"font\"),yscrollcommand=v.set)\n",
    "    out.tag_configure('center',justify='center')\n",
    "    #out=Message(parent)\n",
    "    #out.tag_configure('name',justify='center')\n",
    "    parent.mainloop()\n",
    "except Exception as E:\n",
    "    print(E)"
   ]
  },
  {
   "cell_type": "code",
   "execution_count": 102,
   "metadata": {},
   "outputs": [],
   "source": [
    "# Import the required library\n",
    "from tkinter import *\n",
    "from tkinter import ttk\n",
    "from tkinter import messagebox\n",
    "\n",
    "# Create an instance of tkinter frame\n",
    "win=Tk()\n",
    "\n",
    "# Set the geometry\n",
    "win.geometry(\"700x350\")\n",
    "\n",
    "# Add a Scrollbar(horizontal)\n",
    "v=Scrollbar(win, orient='vertical')\n",
    "v.pack(side=RIGHT,fill='y')\n",
    "\n",
    "# Add a text widget\n",
    "text=Text(win, font=(\"Georgia, 24\"), yscrollcommand=v.set)\n",
    "\n",
    "# Add some text in the text widget\n",
    "for i in range(10):\n",
    "   text.insert(END, \"Welcome to Tutorialspoint...\\n\\n\")\n",
    "\n",
    "# Attach the scrollbar with the text widget\n",
    "v.config(command=text.yview)\n",
    "text.pack()\n",
    "win.mainloop()\n",
    "\n"
   ]
  },
  {
   "cell_type": "code",
   "execution_count": 59,
   "metadata": {},
   "outputs": [],
   "source": [
    "top=Tk()\n",
    "L=Listbox(top)\n",
    "a=[1,22,333,4444,55555,666666]\n",
    "L.insert(1,a)\n",
    "L.pack()\n",
    "top.mainloop()"
   ]
  },
  {
   "cell_type": "code",
   "execution_count": 181,
   "metadata": {},
   "outputs": [
    {
     "data": {
      "text/plain": [
       "True"
      ]
     },
     "execution_count": 181,
     "metadata": {},
     "output_type": "execute_result"
    }
   ],
   "source": [
    "a='akaSH'\n",
    "a.endswith(('sh','SH'))"
   ]
  },
  {
   "cell_type": "code",
   "execution_count": 198,
   "metadata": {},
   "outputs": [
    {
     "ename": "SyntaxError",
     "evalue": "invalid syntax (2216351541.py, line 2)",
     "output_type": "error",
     "traceback": [
      "\u001b[1;36m  Input \u001b[1;32mIn [198]\u001b[1;36m\u001b[0m\n\u001b[1;33m    global q=8\u001b[0m\n\u001b[1;37m            ^\u001b[0m\n\u001b[1;31mSyntaxError\u001b[0m\u001b[1;31m:\u001b[0m invalid syntax\n"
     ]
    }
   ],
   "source": [
    "def fn():\n",
    "    global q\n",
    "    qw=90\n",
    "    pass"
   ]
  },
  {
   "cell_type": "code",
   "execution_count": 197,
   "metadata": {},
   "outputs": [
    {
     "ename": "NameError",
     "evalue": "name 'q' is not defined",
     "output_type": "error",
     "traceback": [
      "\u001b[1;31m---------------------------------------------------------------------------\u001b[0m",
      "\u001b[1;31mNameError\u001b[0m                                 Traceback (most recent call last)",
      "\u001b[1;32md:\\python files\\Pyproject\\modules&packages.ipynb Cell 23\u001b[0m in \u001b[0;36m<cell line: 1>\u001b[1;34m()\u001b[0m\n\u001b[1;32m----> <a href='vscode-notebook-cell:/d%3A/python%20files/Pyproject/modules%26packages.ipynb#X35sZmlsZQ%3D%3D?line=0'>1</a>\u001b[0m q\n",
      "\u001b[1;31mNameError\u001b[0m: name 'q' is not defined"
     ]
    }
   ],
   "source": [
    "q"
   ]
  },
  {
   "cell_type": "code",
   "execution_count": 14,
   "metadata": {},
   "outputs": [],
   "source": [
    "from tkinter import * \n",
    "from tkinter.ttk import *\n",
    "  \n",
    "# creating master window\n",
    "master = Tk()\n",
    "master.geometry('300x300')\n",
    "  \n",
    "# Entry widget\n",
    "e1 = Entry(master)\n",
    "e1.pack(expand = 1, fill = BOTH)\n",
    "  \n",
    "# Button widget which currently has the focus\n",
    "e2 = Button(master, text =\"Button\")\n",
    "  \n",
    "# here focus_set() method is used to set the focus\n",
    "e2.focus_set()\n",
    "e2.pack(pady = 5)\n",
    "  \n",
    "# Radiobuton widget\n",
    "e3 = Radiobutton(master, text =\"Hello\")\n",
    "e3.pack(pady = 5)\n",
    "  \n",
    "# Infinite loop\n",
    "mainloop()"
   ]
  },
  {
   "cell_type": "code",
   "execution_count": 214,
   "metadata": {},
   "outputs": [
    {
     "name": "stdout",
     "output_type": "stream",
     "text": [
      "yes\n"
     ]
    }
   ],
   "source": [
    "a=[]\n",
    "if not a:print('yes')"
   ]
  },
  {
   "cell_type": "code",
   "execution_count": 218,
   "metadata": {},
   "outputs": [],
   "source": [
    "m=Tk()\n",
    "k=Label(m,text='ash')\n",
    "k.pack()\n",
    "m.mainloop()"
   ]
  }
 ],
 "metadata": {
  "kernelspec": {
   "display_name": "base",
   "language": "python",
   "name": "python3"
  },
  "language_info": {
   "codemirror_mode": {
    "name": "ipython",
    "version": 3
   },
   "file_extension": ".py",
   "mimetype": "text/x-python",
   "name": "python",
   "nbconvert_exporter": "python",
   "pygments_lexer": "ipython3",
   "version": "3.9.12 (main, Apr  4 2022, 05:22:27) [MSC v.1916 64 bit (AMD64)]"
  },
  "orig_nbformat": 4,
  "vscode": {
   "interpreter": {
    "hash": "20a9e06a1eee47c4abbed4ec8225ad91d78d9800d202b71b6b0a6e47016c6abd"
   }
  }
 },
 "nbformat": 4,
 "nbformat_minor": 2
}
